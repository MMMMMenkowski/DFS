{
 "cells": [
  {
   "cell_type": "code",
   "execution_count": null,
   "metadata": {},
   "outputs": [],
   "source": [
    "from scipy.io import loadmat\n",
    "import h5py\n",
    "import numpy as np\n",
    "import torch"
   ]
  },
  {
   "cell_type": "code",
   "execution_count": null,
   "metadata": {},
   "outputs": [],
   "source": [
    "m = h5py.File('./nyu_depth_v2_labeled.mat', 'r')\n",
    "keys = list(m.keys())\n",
    "print(keys)\n",
    "print(m[keys[keys.index('names')]].shape[1])\n",
    "#np.array(a)\n",
    "import random\n"
   ]
  },
  {
   "cell_type": "code",
   "execution_count": null,
   "metadata": {},
   "outputs": [],
   "source": [
    "import os \n",
    "import shutil\n",
    "import numpy as np"
   ]
  },
  {
   "cell_type": "code",
   "execution_count": null,
   "metadata": {},
   "outputs": [],
   "source": [
    "for model in os.listdir('./checkpoints'):\n",
    "    miou = []\n",
    "    #writing += ('='*10+model+'='*10+'\\n')\n",
    "    experiments = os.listdir(os.path.join('./checkpoints', model))\n",
    "    for experiment in experiments:\n",
    "        cons = experiment.split('_')\n",
    "        miou.append(float(cons[4]))\n",
    "    hold = max(miou)\n",
    "    for experiment in experiments:\n",
    "        if float(experiment.split('_')[4])<hold:\n",
    "            os.remove(os.path.join('./checkpoints', model, experiment))"
   ]
  },
  {
   "cell_type": "code",
   "execution_count": null,
   "metadata": {},
   "outputs": [],
   "source": [
    "result = dict()\n",
    "\n",
    "for model in os.listdir('./checkpoints'):\n",
    "    pa, mpa, miou = [], [], []\n",
    "    #writing += ('='*10+model+'='*10+'\\n')\n",
    "    experiments = os.listdir(os.path.join('./checkpoints', model))\n",
    "    for experiment in experiments:\n",
    "        cons = experiment.split('_')\n",
    "        pa.append(float(cons[2])) \n",
    "        mpa.append(float(cons[3])) \n",
    "        miou.append(float(cons[4])) \n",
    "    result[model] = [sum(pa)/len(experiments), sum(mpa)/len(experiments), sum(miou)/len(experiments)]\n",
    "    #writing += 'PA: '+str(pa)+'\\n'\n",
    "    #writing += 'mPA: '+str(mpa)+'\\n'\n",
    "    #writing += 'mIOU: '+str(miou)+'\\n'\n",
    "    #writing += 'Avg: PA={:.4f}, mPA={:.4f}, mIOU={:.4f}.\\n'.format(sum(pa)/len(experiments), sum(mpa)/len(experiments), sum(miou)/len(experiments))\n",
    "    #writing += '='*25\n",
    "    pa, mpa, miou = [], [], []\n",
    "\n",
    "if os.path.exists('../../val_texts/Comparative.txt'):\n",
    "    os.remove('../../val_texts/Comparative.txt')\n",
    "    \n",
    "with open('../../val_texts/Comparative.txt', 'a+') as f:\n",
    "    keys = list(result.keys())\n",
    "    keys.sort()\n",
    "    \n",
    "    for k in keys:\n",
    "        f.write(k+'\\n'+'Avg: PA={:.1f}, mPA={:.1f}, mIOU={:.1f}.\\n'.format(result[k][0]*100, result[k][1]*100, result[k][2]*100)+'\\n')\n",
    "\n",
    "np.save('../../val_texts/Comparative', result, allow_pickle=True)"
   ]
  },
  {
   "cell_type": "code",
   "execution_count": null,
   "metadata": {},
   "outputs": [],
   "source": [
    "import torch\n",
    "label = torch.randint(0,5,(100,100))\n",
    "pred = torch.randint(0,5,(100,100))\n",
    "conf_mat = torch.zeros([5,4])\n",
    "for i in range(5):\n",
    "    positive = (pred==i)\n",
    "    negative = (pred!=i)\n",
    "    true = (label==i)\n",
    "    false = (label!=i)\n",
    "    conf_mat[i][0] += (positive * true).sum() # tp\n",
    "    conf_mat[i][1] += (negative * false).sum() # fn\n",
    "    conf_mat[i][2] += (positive * false).sum() # fp\n",
    "    conf_mat[i][3] += (negative * true).sum() # tn\n",
    "#print(conf_mat.sum())\n",
    "#label.numpy()\n",
    "torch.zeros_like"
   ]
  },
  {
   "cell_type": "code",
   "execution_count": 22,
   "metadata": {},
   "outputs": [
    {
     "name": "stdout",
     "output_type": "stream",
     "text": [
      "7369067520\n",
      "7369067520\n"
     ]
    }
   ],
   "source": [
    "import numpy as np\n",
    "#a = np.load('size_separation.npy', allow_pickle=True).item()\n",
    "a = np.load('confusion_matrix/conf_matccnet_mobilenet.npy', allow_pickle=True).item()\n",
    "sum = 0\n",
    "for i in a.keys():\n",
    "    sum += a[i].sum()\n",
    "print(int(sum))\n",
    "b = np.load('confusion_matrix/conf_matdeeplabv3_mobilenet.npy', allow_pickle=True).item()\n",
    "sum = 0\n",
    "for i in a.keys():\n",
    "    sum += b[i].sum()\n",
    "print(int(sum))"
   ]
  }
 ],
 "metadata": {
  "kernelspec": {
   "display_name": "Python 3.7.13 ('geo')",
   "language": "python",
   "name": "python3"
  },
  "language_info": {
   "codemirror_mode": {
    "name": "ipython",
    "version": 3
   },
   "file_extension": ".py",
   "mimetype": "text/x-python",
   "name": "python",
   "nbconvert_exporter": "python",
   "pygments_lexer": "ipython3",
   "version": "3.7.13"
  },
  "orig_nbformat": 4,
  "vscode": {
   "interpreter": {
    "hash": "ff529ef472b4d131b4b81f9140eea99cb9dfdd95a57cf7644a44c230bda83580"
   }
  }
 },
 "nbformat": 4,
 "nbformat_minor": 2
}
